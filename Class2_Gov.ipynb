{
  "nbformat": 4,
  "nbformat_minor": 0,
  "metadata": {
    "colab": {
      "provenance": [],
      "authorship_tag": "ABX9TyOu5sHbXMtwanvlcnmaFVD+",
      "include_colab_link": true
    },
    "kernelspec": {
      "name": "python3",
      "display_name": "Python 3"
    },
    "language_info": {
      "name": "python"
    }
  },
  "cells": [
    {
      "cell_type": "markdown",
      "metadata": {
        "id": "view-in-github",
        "colab_type": "text"
      },
      "source": [
        "<a href=\"https://colab.research.google.com/github/Darakhshan08/Colab_Gov/blob/main/Class2_Gov.ipynb\" target=\"_parent\"><img src=\"https://colab.research.google.com/assets/colab-badge.svg\" alt=\"Open In Colab\"/></a>"
      ]
    },
    {
      "cell_type": "markdown",
      "source": [
        "#Split"
      ],
      "metadata": {
        "id": "r6ALDnUQM5m5"
      }
    },
    {
      "cell_type": "code",
      "execution_count": 8,
      "metadata": {
        "colab": {
          "base_uri": "https://localhost:8080/"
        },
        "id": "mZjg-V7JJ2D1",
        "outputId": "19f52c25-ae74-4bc4-ae16-e0d60f320974"
      },
      "outputs": [
        {
          "output_type": "stream",
          "name": "stdout",
          "text": [
            "['He', '', 'o Wor', 'd']\n"
          ]
        }
      ],
      "source": [
        "my_string : str = \"Hello World\"\n",
        "\n",
        "modified_string : str = my_string.split()  # split array me convert karta hai or hello ko alg or world ko alg kar dia split kar dia\n",
        "modified_string : str = my_string.split(\"W\")  # ans ['Hello ', 'orld'].... is me w k bad se split kar dia but w bhi remove kar dia\n",
        "modified_string : str = my_string.split(\"l\")  # all l split\n",
        "\n",
        "\n",
        "print(modified_string)\n"
      ]
    },
    {
      "cell_type": "markdown",
      "source": [
        "#Replace\n",
        "\n",
        "replace words in text"
      ],
      "metadata": {
        "id": "XpVFx8eaN1w2"
      }
    },
    {
      "cell_type": "code",
      "source": [
        "massage = \"pakistan won all the matches of champians trophy\"\n",
        "massage = massage.replace(\"pakistan\", \"India\")  # pakistan replace with india\n",
        "\n",
        "print(massage)"
      ],
      "metadata": {
        "colab": {
          "base_uri": "https://localhost:8080/"
        },
        "id": "dPPEBMkeN1Iv",
        "outputId": "5a38cf07-0bea-4519-b9d5-fe32ccc296f3"
      },
      "execution_count": 10,
      "outputs": [
        {
          "output_type": "stream",
          "name": "stdout",
          "text": [
            "India won all the matches of champians trophy\n"
          ]
        }
      ]
    },
    {
      "cell_type": "markdown",
      "source": [
        "#Join\n",
        "\n",
        "join lagana se sari values join ho kar ajae ge string me list se convert ho jae ge string me.."
      ],
      "metadata": {
        "id": "xmP4L1T2LkTx"
      }
    },
    {
      "cell_type": "code",
      "source": [
        "cricket_team_countries : str = ['pakistan','india','usa']  # ye list methed hai\n",
        "cricket_team_countries1: str =\", \".join(['pakistan','india','usa'])  # join lagana ne se sari values join ho kar ajae ge string me list se convert ho jae ge string me..\n",
        "\n",
        "#another way to use join.. make another variable and pass there\n",
        "join_with = ', '\n",
        "cricket_team_countries2 : str = join_with.join(cricket_team_countries)\n",
        "\n",
        "\n",
        "print(type(cricket_team_countries))\n",
        "print(cricket_team_countries)\n",
        "print(cricket_team_countries1)\n",
        "print(cricket_team_countries2)\n",
        "\n"
      ],
      "metadata": {
        "colab": {
          "base_uri": "https://localhost:8080/"
        },
        "id": "WYLE4k_fLi0y",
        "outputId": "b9849ba8-c346-4f13-a8de-8867aafbd682"
      },
      "execution_count": 29,
      "outputs": [
        {
          "output_type": "stream",
          "name": "stdout",
          "text": [
            "<class 'list'>\n",
            "['pakistan', 'india', 'usa']\n",
            "pakistan, india, usa\n",
            "pakistan, india, usa\n"
          ]
        }
      ]
    },
    {
      "cell_type": "markdown",
      "source": [
        "#len in string\n",
        "\n",
        "len string ki all lenth bata de ga Darakhshan shah 14 words ki lenth hai but space ko bhi count kare **ga**"
      ],
      "metadata": {
        "id": "0nfRgLT9QYBK"
      }
    },
    {
      "cell_type": "code",
      "source": [
        "name: str = \"Darakhshan shah\"   # len string ki all lenth bata de ga Darakhshan shah 14 words ki lenth hai but space ko bhi count kare ga\n",
        "names = \" Darakhshan shah \"   #len count all sapces\n",
        "print(len(name))\n",
        "print(len(names))\n"
      ],
      "metadata": {
        "colab": {
          "base_uri": "https://localhost:8080/"
        },
        "id": "-xY9nhCDQa0A",
        "outputId": "669df465-a350-48b3-d07c-f616e7154b0b"
      },
      "execution_count": 28,
      "outputs": [
        {
          "output_type": "stream",
          "name": "stdout",
          "text": [
            "15\n",
            "17\n"
          ]
        }
      ]
    },
    {
      "cell_type": "markdown",
      "source": [
        "#len in List\n",
        "\n",
        "List k ander jitne alement hen is ko count kare ga tu 2 alement hen"
      ],
      "metadata": {
        "id": "6MtgCrx5StX7"
      }
    },
    {
      "cell_type": "code",
      "source": [
        "name : str = [\"Darakhshan\", \"shah\"]  # List k ander jitne alement hen is ko count kare ga tu 2 alement hen\n",
        "print(len(name))\n"
      ],
      "metadata": {
        "colab": {
          "base_uri": "https://localhost:8080/"
        },
        "id": "AI7F8Fw7Sz_L",
        "outputId": "f44b2e1f-c0e9-4a9a-840b-7b6d280a5089"
      },
      "execution_count": 27,
      "outputs": [
        {
          "output_type": "stream",
          "name": "stdout",
          "text": [
            "2\n"
          ]
        }
      ]
    },
    {
      "cell_type": "markdown",
      "source": [
        "#Id\n",
        "\n",
        "jahan memory me variable save hai wahan ka refrence No de dega"
      ],
      "metadata": {
        "id": "Wgu_7INxUsoN"
      }
    },
    {
      "cell_type": "code",
      "source": [
        "name = \"Ali\"\n",
        "print(id(name))  # jahan memory me variable save hai wahan ka refrence No de dega"
      ],
      "metadata": {
        "colab": {
          "base_uri": "https://localhost:8080/"
        },
        "id": "RILFMBlZT1Lv",
        "outputId": "e1704055-08bf-42ce-f8d4-ddf680e02d3c"
      },
      "execution_count": 37,
      "outputs": [
        {
          "output_type": "stream",
          "name": "stdout",
          "text": [
            "137211937712688\n"
          ]
        }
      ]
    },
    {
      "cell_type": "markdown",
      "source": [
        "#Is Opereter\n",
        "\n",
        "Value check nahe kar ta wo memeory me refrence id check karta hai is lia aik he refrence ho ga tu is ko true kare ga alg hua tu false aye ga . python check karta hai agher small string me value hai tu wo same refrence pass kar dega dusre varibale ko bhi tu 'is' true kar de ga warna same id nahe hue tu false kar de ga"
      ],
      "metadata": {
        "id": "kxVwDseMb_pd"
      }
    },
    {
      "cell_type": "code",
      "source": [
        "a = \"helloworld\"\n",
        "b = \"helloworld\"   # memory me refrensce id same hai is lia 'is' me True aye ga\n",
        "\n",
        "c = \"hello world\"\n",
        "d = \"hello world\"  # memory me refrensce id same nahe hai is lia 'is' me False aye ga\n",
        "\n",
        "print(id(a))\n",
        "print(id(b))\n",
        "print(id(c))\n",
        "print(id(d))\n",
        "\n",
        "print(a is b)\n",
        "print(c is d)\n"
      ],
      "metadata": {
        "colab": {
          "base_uri": "https://localhost:8080/"
        },
        "id": "0Dik6al-V-gw",
        "outputId": "22373dcc-9580-45f4-f232-8e5df230d96c"
      },
      "execution_count": 42,
      "outputs": [
        {
          "output_type": "stream",
          "name": "stdout",
          "text": [
            "137211691792688\n",
            "137211691792688\n",
            "137211691433904\n",
            "137211691428272\n",
            "True\n",
            "False\n"
          ]
        }
      ]
    },
    {
      "cell_type": "markdown",
      "source": [
        "#import sys\n",
        "\n",
        "python hame by defult aik module deta hai systum , ap chaho tu ap ki memory k ander jo bhi functions or variables save hen is se intrectivity kar sakte hen sys se.  ##**a ko save kare ga aik spacial string memory pool me**, ab yehi value same kisi or variable me aye tu ye a ka refrence pass kar dega b me tu is se ye ho ga k dono varibale ki id same aye ge.. python check karta hai agher small string me value hai tu wo same refrence pass kar dega dusre varibale ko bhi tu 'is' true kar de ga\n"
      ],
      "metadata": {
        "id": "mi8_U7ZSZFrO"
      }
    },
    {
      "cell_type": "code",
      "source": [
        "import sys  # systum\n",
        "\n",
        "a = sys.intern(\"hello world\")\n",
        "b = sys.intern(\"hello world\")   # memory me refrensce id same hai is lia 'is' me True aye ga\n",
        "\n",
        "# a = \"hello world\"\n",
        "# b = \"hello world\"   # memory me refrensce id same nahe hai is lia 'is' me False aye ga\n",
        "\n",
        "print(id(a))\n",
        "print(id(b))\n",
        "\n",
        "print(a is b)\n"
      ],
      "metadata": {
        "colab": {
          "base_uri": "https://localhost:8080/"
        },
        "id": "v_gUGeV7Y613",
        "outputId": "fa73e244-cdba-4975-b5e6-57a63f0cdeaa"
      },
      "execution_count": 50,
      "outputs": [
        {
          "output_type": "stream",
          "name": "stdout",
          "text": [
            "137211690086640\n",
            "137211690086640\n",
            "True\n"
          ]
        }
      ]
    }
  ]
}