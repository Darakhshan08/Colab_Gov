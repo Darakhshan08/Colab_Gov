{
  "nbformat": 4,
  "nbformat_minor": 0,
  "metadata": {
    "colab": {
      "provenance": [],
      "authorship_tag": "ABX9TyP4INVu4Y109HvZwIbld/df",
      "include_colab_link": true
    },
    "kernelspec": {
      "name": "python3",
      "display_name": "Python 3"
    },
    "language_info": {
      "name": "python"
    }
  },
  "cells": [
    {
      "cell_type": "markdown",
      "metadata": {
        "id": "view-in-github",
        "colab_type": "text"
      },
      "source": [
        "<a href=\"https://colab.research.google.com/github/Darakhshan08/Colab_Gov/blob/main/Class2_Gov.ipynb\" target=\"_parent\"><img src=\"https://colab.research.google.com/assets/colab-badge.svg\" alt=\"Open In Colab\"/></a>"
      ]
    },
    {
      "cell_type": "markdown",
      "source": [
        "#Split"
      ],
      "metadata": {
        "id": "r6ALDnUQM5m5"
      }
    },
    {
      "cell_type": "code",
      "execution_count": 6,
      "metadata": {
        "colab": {
          "base_uri": "https://localhost:8080/"
        },
        "id": "mZjg-V7JJ2D1",
        "outputId": "9d41267a-e176-48b1-8c84-14eb0099abc8"
      },
      "outputs": [
        {
          "output_type": "stream",
          "name": "stdout",
          "text": [
            "['He', '', 'o Wor', 'd']\n"
          ]
        }
      ],
      "source": [
        "my_string : str = \"Hello World\"\n",
        "\n",
        "modified_string : str = my_string.split()  # split array me convert karta hai or hello ko alg or world ko alg kar dia split kar dia\n",
        "modified_string : str = my_string.split(\"W\")  # is me w k bad se split kar dia but w bhi remove kar dia\n",
        "modified_string : str = my_string.split(\"l\")  # all l split\n",
        "\n",
        "print(modified_string)\n"
      ]
    },
    {
      "cell_type": "markdown",
      "source": [
        "#Replace\n",
        "\n",
        "replace words in text"
      ],
      "metadata": {
        "id": "XpVFx8eaN1w2"
      }
    },
    {
      "cell_type": "code",
      "source": [
        "massage = \"pakistan won all the matches of champians trophy\"\n",
        "massage = massage.replace(\"pakistan\", \"India\")  # pakistan replace with india\n",
        "\n",
        "print(massage)"
      ],
      "metadata": {
        "colab": {
          "base_uri": "https://localhost:8080/"
        },
        "id": "dPPEBMkeN1Iv",
        "outputId": "7d10a9f7-82a7-4e34-9d00-5fc9c80b2233"
      },
      "execution_count": 10,
      "outputs": [
        {
          "output_type": "stream",
          "name": "stdout",
          "text": [
            "India won all the matches of champians trophy\n"
          ]
        }
      ]
    }
  ]
}