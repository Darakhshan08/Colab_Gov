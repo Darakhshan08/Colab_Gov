{
  "nbformat": 4,
  "nbformat_minor": 0,
  "metadata": {
    "colab": {
      "provenance": [],
      "authorship_tag": "ABX9TyO4Zt+Tkr/vPcrAawQXmTGl",
      "include_colab_link": true
    },
    "kernelspec": {
      "name": "python3",
      "display_name": "Python 3"
    },
    "language_info": {
      "name": "python"
    }
  },
  "cells": [
    {
      "cell_type": "markdown",
      "metadata": {
        "id": "view-in-github",
        "colab_type": "text"
      },
      "source": [
        "<a href=\"https://colab.research.google.com/github/Darakhshan08/Colab_Gov/blob/main/Class1_Gov.ipynb\" target=\"_parent\"><img src=\"https://colab.research.google.com/assets/colab-badge.svg\" alt=\"Open In Colab\"/></a>"
      ]
    },
    {
      "cell_type": "code",
      "execution_count": null,
      "metadata": {
        "id": "xoPlHhCXt6C_"
      },
      "outputs": [],
      "source": []
    },
    {
      "cell_type": "code",
      "source": [
        "print('786')"
      ],
      "metadata": {
        "colab": {
          "base_uri": "https://localhost:8080/"
        },
        "id": "aaTs0YaY8wSv",
        "outputId": "200f9098-8119-423f-c082-ca40edd35d78"
      },
      "execution_count": null,
      "outputs": [
        {
          "output_type": "stream",
          "name": "stdout",
          "text": [
            "786\n"
          ]
        }
      ]
    },
    {
      "cell_type": "markdown",
      "source": [
        "#***hello world***\n",
        "\n",
        "#h1\n",
        "\n",
        "**Bold**\n",
        "\n",
        "*italic*\n",
        "\n",
        "- Bullet\n",
        "\n",
        "1.   List item\n",
        "2.   List item\n",
        "\n",
        "*   List item\n",
        "*   List item\n",
        "\n",
        "\n",
        " `dfgdgdg`\n",
        "\n",
        "> Add blockquote\n",
        "\n",
        "---\n",
        "\n",
        "\n"
      ],
      "metadata": {
        "id": "uSukz90Z-oX-"
      }
    },
    {
      "cell_type": "code",
      "source": [
        "print('Hello World')"
      ],
      "metadata": {
        "id": "avoCtfKV83vr"
      },
      "execution_count": null,
      "outputs": []
    },
    {
      "cell_type": "code",
      "source": [
        "print('Hello Python')"
      ],
      "metadata": {
        "colab": {
          "base_uri": "https://localhost:8080/"
        },
        "id": "YHkqHrqM8867",
        "outputId": "b1a537aa-b971-4bc1-ceac-d77548429d37"
      },
      "execution_count": null,
      "outputs": [
        {
          "output_type": "stream",
          "name": "stdout",
          "text": [
            "Hello Python\n"
          ]
        }
      ]
    },
    {
      "cell_type": "code",
      "source": [
        "#full_name : str = \"Darakhshan\"\n",
        "full_name : int = \"Darakhshan\"\n",
        "print(type(full_name))"
      ],
      "metadata": {
        "colab": {
          "base_uri": "https://localhost:8080/"
        },
        "id": "P12bG8khGWOL",
        "outputId": "c793e180-12f1-4b78-b6e6-36ca6c71233f"
      },
      "execution_count": null,
      "outputs": [
        {
          "output_type": "stream",
          "name": "stdout",
          "text": [
            "<class 'str'>\n"
          ]
        }
      ]
    },
    {
      "cell_type": "code",
      "source": [
        "any_number : int = 12\n",
        "print(any_number)\n",
        "print(type(any_number))"
      ],
      "metadata": {
        "colab": {
          "base_uri": "https://localhost:8080/"
        },
        "id": "3azvEmTyHW8t",
        "outputId": "d6a427b9-3524-4aa2-8ae3-52cab73a36a5"
      },
      "execution_count": null,
      "outputs": [
        {
          "output_type": "stream",
          "name": "stdout",
          "text": [
            "12\n",
            "<class 'int'>\n"
          ]
        }
      ]
    },
    {
      "cell_type": "code",
      "source": [
        "float_number : float = 12.232\n",
        "print(float_number)\n",
        "print(type(float_number))"
      ],
      "metadata": {
        "colab": {
          "base_uri": "https://localhost:8080/"
        },
        "id": "V3KhUWpWH-RN",
        "outputId": "8250d4ae-6441-4b50-c134-ccf3e4c38a46"
      },
      "execution_count": null,
      "outputs": [
        {
          "output_type": "stream",
          "name": "stdout",
          "text": [
            "12.232\n",
            "<class 'float'>\n"
          ]
        }
      ]
    },
    {
      "cell_type": "code",
      "source": [
        "is_teacher : bool = True\n",
        "print(is_teacher)\n",
        "print(type(is_teacher))"
      ],
      "metadata": {
        "colab": {
          "base_uri": "https://localhost:8080/"
        },
        "id": "EtoyAV37IcND",
        "outputId": "1e2b5ac0-8aeb-41f4-fd38-6ad49a9c5c4e"
      },
      "execution_count": null,
      "outputs": [
        {
          "output_type": "stream",
          "name": "stdout",
          "text": [
            "True\n",
            "<class 'bool'>\n"
          ]
        }
      ]
    },
    {
      "cell_type": "markdown",
      "source": [
        "3. Sequence Types\n",
        "\n",
        "These store multiple items in an ordered way.\n",
        "\n",
        "a. String (str)\n",
        "\n",
        "bold text\n",
        "A sequence of characters enclosed in quotes"
      ],
      "metadata": {
        "id": "tDtnyvL_MNfI"
      }
    },
    {
      "cell_type": "code",
      "source": [
        "text_double: str = \"Hello, python!\"    # Strings with Double Quotes (\")\n",
        "text_single: str  = 'Hello, Python!' # Strings with Single Quotes (')\n",
        "text_multi: str   = '''Hello, Python!''' # Multi-Line Strings with Triple Quotes (''' or \"\"\")\n",
        "text_multi_1: str = \"\"\"Hello, Python!\"\"\" # Multi-Line Strings with Triple Quotes (''' or \"\"\")\n",
        "\n",
        "print(type(text_double), \"Text_double  = \", text_double)  # <class 'str'>\n",
        "print(type(text_single), \" text_single   = \", text_single)    # <class 'str'>\n",
        "print(type(text_multi), \" text_multi    = \", text_multi)      # <class 'str'>\n",
        "print(type(text_multi_1), \" text_multi_1  = \", text_multi_1)  # <class 'str'>"
      ],
      "metadata": {
        "colab": {
          "base_uri": "https://localhost:8080/"
        },
        "id": "g059uuhAMKl_",
        "outputId": "3bf0ad8d-54eb-451d-d455-789159bf0251"
      },
      "execution_count": null,
      "outputs": [
        {
          "output_type": "stream",
          "name": "stdout",
          "text": [
            "<class 'str'> Text_double  =  Hello, python!\n",
            "<class 'str'>  text_single   =  Hello, Python!\n",
            "<class 'str'>  text_multi    =  Hello, Python!\n",
            "<class 'str'>  text_multi_1  =  Hello, Python!\n"
          ]
        }
      ]
    },
    {
      "cell_type": "markdown",
      "source": [
        "b. List (list)\n",
        "\n",
        "An ordered, mutable collection."
      ],
      "metadata": {
        "id": "ByQqhFxoQpGx"
      }
    },
    {
      "cell_type": "code",
      "source": [
        "my_list_1: int = [1,2,3,\"java\", 3.14, True] #Type hinting is not enforced in python, but you should mention appropriate data type in this case 'list'\n",
        "my_list: list = [1,2,3, \"python\", 3.14, 3+2j]\n",
        "\n",
        "print(type(my_list_1), \" my_list_1 = \", my_list_1)  # <class 'list'>\n",
        "print(type(my_list), \" my_list  =  \" + str(my_list))   # we will look into type casting in classes ahead"
      ],
      "metadata": {
        "colab": {
          "base_uri": "https://localhost:8080/"
        },
        "id": "_vTKVZGwOy4_",
        "outputId": "46df3679-6cc3-40c3-eb35-6024e1484afe"
      },
      "execution_count": null,
      "outputs": [
        {
          "output_type": "stream",
          "name": "stdout",
          "text": [
            "<class 'list'>  my_list_1 =  [1, 2, 3, 'java', 3.14, True]\n",
            "<class 'list'>  my_list  =  [1, 2, 3, 'python', 3.14, (3+2j)]\n"
          ]
        }
      ]
    },
    {
      "cell_type": "markdown",
      "source": [],
      "metadata": {
        "id": "HSiSJMLxM7D2"
      }
    },
    {
      "cell_type": "markdown",
      "source": [
        "#c. Tuple (tuple)\n",
        "\n",
        "An ordered, immutable collection."
      ],
      "metadata": {
        "id": "fsBmvgOWqlvt"
      }
    },
    {
      "cell_type": "code",
      "source": [
        "my_tuple: tuple = (1,2,3,\"AI\", 2.71, False, .3 , 3+2j )\n",
        "print(type(my_tuple), \" my_tuple = \", my_tuple )  # <class 'tuple'>"
      ],
      "metadata": {
        "colab": {
          "base_uri": "https://localhost:8080/"
        },
        "id": "4uswfbqGqyF8",
        "outputId": "9e703a60-c726-4fc4-a31d-6d9d84f631ba"
      },
      "execution_count": 2,
      "outputs": [
        {
          "output_type": "stream",
          "name": "stdout",
          "text": [
            "<class 'tuple'>  my_tuple =  (1, 2, 3, 'AI', 2.71, False, 0.3, (3+2j))\n"
          ]
        }
      ]
    },
    {
      "cell_type": "markdown",
      "source": [],
      "metadata": {
        "id": "2SvWrJENrwrx"
      }
    },
    {
      "cell_type": "markdown",
      "source": [
        "#d. Range (range)\n",
        "\n",
        "Represents a sequence of numbers."
      ],
      "metadata": {
        "id": "NVapYz5ar9uP"
      }
    },
    {
      "cell_type": "code",
      "source": [
        "num_range: range = range(1, 10, 2)  # range(start, stop, step)\n",
        "print(type(num_range), \"num_range = \", num_range.step)  # <class 'range'>\n",
        "print(type(num_range), \"num_range = \", num_range.start)\n",
        "print(type(num_range), \"num_range = \", num_range.stop)\n",
        "print(type(num_range), \"num_range = \", num_range.index)\n",
        "print(type(num_range), \"num_range = \", num_range.count)"
      ],
      "metadata": {
        "colab": {
          "base_uri": "https://localhost:8080/"
        },
        "id": "meQBPp1ssCuP",
        "outputId": "1da3c1ff-46c7-4654-dcff-0c9d0ccbc5f3"
      },
      "execution_count": 7,
      "outputs": [
        {
          "output_type": "stream",
          "name": "stdout",
          "text": [
            "<class 'range'> num_range =  2\n",
            "<class 'range'> num_range =  1\n",
            "<class 'range'> num_range =  10\n",
            "<class 'range'> num_range =  <built-in method index of range object at 0x7e54ba84d0e0>\n",
            "<class 'range'> num_range =  <built-in method count of range object at 0x7e54ba84d0e0>\n"
          ]
        }
      ]
    },
    {
      "cell_type": "code",
      "source": [
        "for i in range(1, 10, 2):\n",
        "  print(i)"
      ],
      "metadata": {
        "colab": {
          "base_uri": "https://localhost:8080/"
        },
        "id": "yTeZ4wF0t5HS",
        "outputId": "380bbe88-f9b9-465a-b27a-e91229f4c02a"
      },
      "execution_count": 8,
      "outputs": [
        {
          "output_type": "stream",
          "name": "stdout",
          "text": [
            "1\n",
            "3\n",
            "5\n",
            "7\n",
            "9\n"
          ]
        }
      ]
    },
    {
      "cell_type": "markdown",
      "source": [
        "#Class 1 code"
      ],
      "metadata": {
        "id": "ycUj7JpZvs37"
      }
    },
    {
      "cell_type": "code",
      "source": [
        "full_name : str = \"Darakhshan\"\n",
        "full_name : int = \"Darakhshan\"  # type string he show ho ge cheheye ap int bhi likh den\n",
        "print(full_name)\n",
        "print(type(full_name))"
      ],
      "metadata": {
        "colab": {
          "base_uri": "https://localhost:8080/"
        },
        "id": "1STKGzrXvsiE",
        "outputId": "e668b36c-57f7-41c3-df1f-1f31643c1d6e"
      },
      "execution_count": 12,
      "outputs": [
        {
          "output_type": "stream",
          "name": "stdout",
          "text": [
            "Darakhshan\n",
            "<class 'str'>\n"
          ]
        }
      ]
    },
    {
      "cell_type": "code",
      "source": [
        "any_number: int = 22\n",
        "print(any_number)\n",
        "print(type(any_number))"
      ],
      "metadata": {
        "colab": {
          "base_uri": "https://localhost:8080/"
        },
        "id": "ppQemwjhw1ah",
        "outputId": "a7e05384-2937-429d-ce2b-d71153d3759e"
      },
      "execution_count": 14,
      "outputs": [
        {
          "output_type": "stream",
          "name": "stdout",
          "text": [
            "22\n",
            "<class 'int'>\n"
          ]
        }
      ]
    },
    {
      "cell_type": "code",
      "source": [
        "float_number = 12.232\n",
        "print(type(float_number))"
      ],
      "metadata": {
        "colab": {
          "base_uri": "https://localhost:8080/"
        },
        "id": "FbnrBN_Cx1K2",
        "outputId": "502a6356-1d38-44b9-df41-5dd4c04c3cac"
      },
      "execution_count": 15,
      "outputs": [
        {
          "output_type": "stream",
          "name": "stdout",
          "text": [
            "<class 'float'>\n"
          ]
        }
      ]
    },
    {
      "cell_type": "code",
      "source": [
        "is_teacher : bool = True\n",
        "print(type(is_teacher))"
      ],
      "metadata": {
        "colab": {
          "base_uri": "https://localhost:8080/"
        },
        "id": "hKUSDGoeyYXs",
        "outputId": "32ff91a0-107e-412b-d942-e709ef80d28a"
      },
      "execution_count": 16,
      "outputs": [
        {
          "output_type": "stream",
          "name": "stdout",
          "text": [
            "<class 'bool'>\n"
          ]
        }
      ]
    },
    {
      "cell_type": "markdown",
      "source": [
        "#Lesson 03: Operators, Keywords & Variables"
      ],
      "metadata": {
        "id": "6XyPQFUZ0p9M"
      }
    },
    {
      "cell_type": "markdown",
      "source": [
        "#concatination  \n",
        "\n",
        "2 str valuse ko aik sath karne k lia"
      ],
      "metadata": {
        "id": "gqjUxwa86-pc"
      }
    },
    {
      "cell_type": "code",
      "source": [
        "first_name: str = 'darakhshan'\n",
        "last_name: str = \"Shah\"\n",
        "\n",
        "full_name: str = first_name + ' ' + last_name\n",
        "\n",
        "print(full_name)"
      ],
      "metadata": {
        "colab": {
          "base_uri": "https://localhost:8080/"
        },
        "id": "V8zRofbG0gBd",
        "outputId": "72e1f1ee-f784-408f-e415-d907f8e86e98"
      },
      "execution_count": 19,
      "outputs": [
        {
          "output_type": "stream",
          "name": "stdout",
          "text": [
            "darakhshan Shah\n"
          ]
        }
      ]
    },
    {
      "cell_type": "markdown",
      "source": [
        "##f\"\"  (f string for concatination (in type script use template litrals))\n",
        "\n",
        "when you can not use opretors(+)or \"\" you can use f srting for concatination\n",
        "\n",
        "apne string me koi bhi value dynamic dekhani ho tu is k lia f\"\" (f string) use kren ge"
      ],
      "metadata": {
        "id": "dt32qi_u6biQ"
      }
    },
    {
      "cell_type": "markdown",
      "source": [],
      "metadata": {
        "id": "jnUU4OMT6Xa3"
      }
    },
    {
      "cell_type": "code",
      "source": [
        "first_name: str = 'darakhshan'\n",
        "last_name: str = \"Shah\"\n",
        "\n",
        "full_name: str = f\"{first_name} {last_name}\"  # f\"\"(f string) when you can not use opretors(+)or \"\" you can use f srting for concatination\n",
        "\n",
        "print(full_name)"
      ],
      "metadata": {
        "colab": {
          "base_uri": "https://localhost:8080/"
        },
        "id": "ihMxsxme1JJ3",
        "outputId": "12db7c60-8c2a-4958-f1b4-64c9dd3f5512"
      },
      "execution_count": 20,
      "outputs": [
        {
          "output_type": "stream",
          "name": "stdout",
          "text": [
            "darakhshan Shah\n"
          ]
        }
      ]
    },
    {
      "cell_type": "markdown",
      "source": [
        "#dog string\n",
        "\n",
        "triple Cotation \"\"\" jab use karen ge jab bhi line break karni ho"
      ],
      "metadata": {
        "id": "Cb56a4PPB-Gf"
      }
    },
    {
      "cell_type": "code",
      "source": [
        "achievement: str = \" Thrilled to \\n share i'm passing Q2 exam!\" # \\n for break the line one time\n",
        "\n",
        "achievements: str = \"\"\" Thrilled to\n",
        " share i'm passing\n",
        "  Q2 exam!\"\"\"             # \"\"\" triple cotation for braeke the line where you enter\n",
        "\n",
        "\n",
        "print(achievement,achievements)\n"
      ],
      "metadata": {
        "colab": {
          "base_uri": "https://localhost:8080/"
        },
        "id": "CMm76dKV8fGw",
        "outputId": "148575d2-f8f5-4089-dca6-08adbcd074c2"
      },
      "execution_count": 27,
      "outputs": [
        {
          "output_type": "stream",
          "name": "stdout",
          "text": [
            " Thrilled to \n",
            " share i'm passing Q2 exam!  Thrilled to\n",
            " share i'm passing\n",
            "  Q2 exam!\n"
          ]
        }
      ]
    },
    {
      "cell_type": "markdown",
      "source": [
        "#dog string\n",
        "\n",
        "\n",
        "apne string me koi bhi value dynamic dekhani ho tu is k lia f\"\" (f string) use kren ge"
      ],
      "metadata": {
        "id": "dmOJIy8VE-qX"
      }
    },
    {
      "cell_type": "code",
      "source": [
        "quarter: str = \"Q3\"\n",
        "\n",
        "achievement1: str = f\"\"\" Thrilled to\n",
        " share i'm passing {quarter}\n",
        "   exam!\"\"\"             # ye {quarter} ko as a text consider kare ga but agher \"\"\" triple cotation se pehle f laga den ge tu ye {quarter} ko as a variable consider kare ga\n",
        "\n",
        "print(achievement1)\n",
        "print(type(achievement1),  achievement1)\n"
      ],
      "metadata": {
        "colab": {
          "base_uri": "https://localhost:8080/"
        },
        "id": "bsVNhwei_Uro",
        "outputId": "3444e945-d816-4917-f5dd-14a5856adac2"
      },
      "execution_count": 45,
      "outputs": [
        {
          "output_type": "stream",
          "name": "stdout",
          "text": [
            " Thrilled to\n",
            " share i'm passing Q3\n",
            "   exam!\n",
            "<class 'str'>  Thrilled to\n",
            " share i'm passing Q3\n",
            "   exam!\n"
          ]
        }
      ]
    },
    {
      "cell_type": "code",
      "source": [
        "quarter: str = \"Q3\"\n",
        "\n",
        "achievement1: str = f\"\"\" Thrilled to\n",
        " share i'm passing {quarter}\n",
        "   exam!\"\"\"             # ye {quarter} ko as a text consider kare ga but agher \"\"\" triple cotation se pehle f laga den ge tu ye {quarter} ko as a variable consider kare ga\n",
        "\n",
        "\n",
        "print(id(achievement1))  # variable memory me jahan stor hua hai is box ka refrence No yani is box ki id"
      ],
      "metadata": {
        "colab": {
          "base_uri": "https://localhost:8080/"
        },
        "id": "K3kUawp6yxX_",
        "outputId": "6efe3a84-167b-442b-8a51-9b20b4228e3b"
      },
      "execution_count": 17,
      "outputs": [
        {
          "output_type": "stream",
          "name": "stdout",
          "text": [
            "138938116745008\n"
          ]
        }
      ]
    },
    {
      "cell_type": "code",
      "source": [
        "a: int = 10\n",
        "b :int = 3\n",
        "\n",
        "print(\"a + b = \", a + b)\n",
        "print(\"a - b = \", a - b)\n",
        "print(\"a * b = \", a * b)\n",
        "print(\"a / b = \", a / b)\n",
        "print(\"a // b = \", a // b)\n",
        "print(\"a % b = \", a % b)\n",
        "print(\"a ** b = \", a ** b) # 10 * 10 *10  (10 * 10(100) * 10(1000))\n",
        "\n",
        "\n"
      ],
      "metadata": {
        "colab": {
          "base_uri": "https://localhost:8080/"
        },
        "id": "tB4kgtnJFG3-",
        "outputId": "4fdebefb-557a-4b05-dd48-731328ca9079"
      },
      "execution_count": 57,
      "outputs": [
        {
          "output_type": "stream",
          "name": "stdout",
          "text": [
            "a + b =  13\n",
            "a - b =  7\n",
            "a * b =  30\n",
            "a / b =  3.3333333333333335\n",
            "a // b =  3\n",
            "a % b =  1\n",
            "a ** b =  1000\n"
          ]
        }
      ]
    },
    {
      "cell_type": "code",
      "source": [
        "x: int = 10\n",
        "y: int = 5\n",
        "\n",
        "print(\"x == y \", x == y )\n",
        "print(\"x != y \", x != y  )\n",
        "print(\"x > y \", x > y  )\n",
        "print(\"x < y \", x < y  )\n",
        "print(\"x >= y \", x >= y  )\n",
        "print(\"x <= y \", x <= y  )\n",
        "\n",
        "\n",
        "\n",
        "\n"
      ],
      "metadata": {
        "colab": {
          "base_uri": "https://localhost:8080/"
        },
        "id": "NrcsNhVGV4zZ",
        "outputId": "b5616fde-07f4-4f8d-8310-40e3a1b604b0"
      },
      "execution_count": 66,
      "outputs": [
        {
          "output_type": "stream",
          "name": "stdout",
          "text": [
            "x == y  False\n",
            "x != y  True\n",
            "x > y  True\n",
            "x < y  False\n",
            "x >= y  True\n",
            "x <= y  False\n"
          ]
        }
      ]
    },
    {
      "cell_type": "code",
      "source": [
        "x: bool = True\n",
        "y: bool = False\n",
        "\n",
        "print(\"x and y = \", x and y)\n",
        "print(\"x or y = \", x or y)\n",
        "print(\"not x = \", not x)\n",
        "print(\"not y = \", not y)\n",
        "\n"
      ],
      "metadata": {
        "colab": {
          "base_uri": "https://localhost:8080/"
        },
        "id": "KeNOh15Vr_1b",
        "outputId": "1e355855-3078-45d2-f94d-d02f9bf01540"
      },
      "execution_count": 8,
      "outputs": [
        {
          "output_type": "stream",
          "name": "stdout",
          "text": [
            "x and y =  False\n",
            "x or y =  True\n",
            "not x =  False\n",
            "not y =  True\n"
          ]
        }
      ]
    },
    {
      "cell_type": "code",
      "source": [
        "x = 5\n",
        "print(x)\n",
        "\n",
        "x += 3\n",
        "print(x)\n",
        "\n",
        "x -= 3\n",
        "print(x)\n",
        "\n",
        "x *= 3\n",
        "print(x)\n",
        "\n",
        "x /= 3\n",
        "print(x)\n",
        "\n",
        "x //= 3\n",
        "print(x)\n",
        "\n",
        "\n"
      ],
      "metadata": {
        "colab": {
          "base_uri": "https://localhost:8080/"
        },
        "id": "zA7SjUj7usw5",
        "outputId": "1a4e1428-9783-4343-fb31-00fc2110f88c"
      },
      "execution_count": 16,
      "outputs": [
        {
          "output_type": "stream",
          "name": "stdout",
          "text": [
            "5\n",
            "8\n",
            "5\n",
            "15\n",
            "5.0\n",
            "1.0\n"
          ]
        }
      ]
    },
    {
      "cell_type": "markdown",
      "source": [
        "#LIST"
      ],
      "metadata": {
        "id": "hJDFM9960UVy"
      }
    },
    {
      "cell_type": "code",
      "source": [
        "fruits = [\"mango\" ,\"banana\", \"grapes\"]\n",
        "print(fruits)\n",
        "print(len(fruits))\n",
        "print(fruits[0])\n",
        "print(fruits[0: 2])   # 2 values se pehle pehle ki value bataye ga\n",
        "\n"
      ],
      "metadata": {
        "colab": {
          "base_uri": "https://localhost:8080/"
        },
        "id": "2m4ZNefz0TLw",
        "outputId": "ceb227e8-b58b-4c8f-9101-fc3117c0ad3f"
      },
      "execution_count": 24,
      "outputs": [
        {
          "output_type": "stream",
          "name": "stdout",
          "text": [
            "['mango', 'banana', 'grapes']\n",
            "3\n",
            "mango\n",
            "['mango', 'banana']\n"
          ]
        }
      ]
    }
  ]
}