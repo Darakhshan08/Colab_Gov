{
  "nbformat": 4,
  "nbformat_minor": 0,
  "metadata": {
    "colab": {
      "provenance": [],
      "authorship_tag": "ABX9TyNSAQl0tEal+6ANzl7qCGyu",
      "include_colab_link": true
    },
    "kernelspec": {
      "name": "python3",
      "display_name": "Python 3"
    },
    "language_info": {
      "name": "python"
    }
  },
  "cells": [
    {
      "cell_type": "markdown",
      "metadata": {
        "id": "view-in-github",
        "colab_type": "text"
      },
      "source": [
        "<a href=\"https://colab.research.google.com/github/Darakhshan08/Colab_Gov/blob/main/Class1_Gov.ipynb\" target=\"_parent\"><img src=\"https://colab.research.google.com/assets/colab-badge.svg\" alt=\"Open In Colab\"/></a>"
      ]
    },
    {
      "cell_type": "code",
      "execution_count": null,
      "metadata": {
        "id": "xoPlHhCXt6C_"
      },
      "outputs": [],
      "source": []
    },
    {
      "cell_type": "code",
      "source": [
        "print('786')"
      ],
      "metadata": {
        "colab": {
          "base_uri": "https://localhost:8080/"
        },
        "id": "aaTs0YaY8wSv",
        "outputId": "200f9098-8119-423f-c082-ca40edd35d78"
      },
      "execution_count": 1,
      "outputs": [
        {
          "output_type": "stream",
          "name": "stdout",
          "text": [
            "786\n"
          ]
        }
      ]
    },
    {
      "cell_type": "markdown",
      "source": [
        "#***hello world***\n",
        "\n",
        "#h1\n",
        "\n",
        "**Bold**\n",
        "\n",
        "*italic*\n",
        "\n",
        "- Bullet\n",
        "\n",
        "1.   List item\n",
        "2.   List item\n",
        "\n",
        "*   List item\n",
        "*   List item\n",
        "\n",
        "\n",
        " `dfgdgdg`\n",
        "\n",
        "> Add blockquote\n",
        "\n",
        "---\n",
        "\n",
        "\n"
      ],
      "metadata": {
        "id": "uSukz90Z-oX-"
      }
    },
    {
      "cell_type": "code",
      "source": [
        "print('Hello World')"
      ],
      "metadata": {
        "id": "avoCtfKV83vr"
      },
      "execution_count": null,
      "outputs": []
    },
    {
      "cell_type": "code",
      "source": [
        "print('Hello Python')"
      ],
      "metadata": {
        "colab": {
          "base_uri": "https://localhost:8080/"
        },
        "id": "YHkqHrqM8867",
        "outputId": "b1a537aa-b971-4bc1-ceac-d77548429d37"
      },
      "execution_count": 2,
      "outputs": [
        {
          "output_type": "stream",
          "name": "stdout",
          "text": [
            "Hello Python\n"
          ]
        }
      ]
    },
    {
      "cell_type": "code",
      "source": [
        "#full_name : str = \"Darakhshan\"\n",
        "full_name : int = \"Darakhshan\"\n",
        "print(type(full_name))"
      ],
      "metadata": {
        "colab": {
          "base_uri": "https://localhost:8080/"
        },
        "id": "P12bG8khGWOL",
        "outputId": "c793e180-12f1-4b78-b6e6-36ca6c71233f"
      },
      "execution_count": 4,
      "outputs": [
        {
          "output_type": "stream",
          "name": "stdout",
          "text": [
            "<class 'str'>\n"
          ]
        }
      ]
    },
    {
      "cell_type": "code",
      "source": [
        "any_number : int = 12\n",
        "print(any_number)\n",
        "print(type(any_number))"
      ],
      "metadata": {
        "colab": {
          "base_uri": "https://localhost:8080/"
        },
        "id": "3azvEmTyHW8t",
        "outputId": "d6a427b9-3524-4aa2-8ae3-52cab73a36a5"
      },
      "execution_count": 7,
      "outputs": [
        {
          "output_type": "stream",
          "name": "stdout",
          "text": [
            "12\n",
            "<class 'int'>\n"
          ]
        }
      ]
    },
    {
      "cell_type": "code",
      "source": [
        "float_number : float = 12.232\n",
        "print(float_number)\n",
        "print(type(float_number))"
      ],
      "metadata": {
        "colab": {
          "base_uri": "https://localhost:8080/"
        },
        "id": "V3KhUWpWH-RN",
        "outputId": "8250d4ae-6441-4b50-c134-ccf3e4c38a46"
      },
      "execution_count": 11,
      "outputs": [
        {
          "output_type": "stream",
          "name": "stdout",
          "text": [
            "12.232\n",
            "<class 'float'>\n"
          ]
        }
      ]
    },
    {
      "cell_type": "code",
      "source": [
        "is_teacher : bool = True\n",
        "print(is_teacher)\n",
        "print(type(is_teacher))"
      ],
      "metadata": {
        "colab": {
          "base_uri": "https://localhost:8080/"
        },
        "id": "EtoyAV37IcND",
        "outputId": "1e2b5ac0-8aeb-41f4-fd38-6ad49a9c5c4e"
      },
      "execution_count": 10,
      "outputs": [
        {
          "output_type": "stream",
          "name": "stdout",
          "text": [
            "True\n",
            "<class 'bool'>\n"
          ]
        }
      ]
    },
    {
      "cell_type": "markdown",
      "source": [
        "3. Sequence Types\n",
        "\n",
        "These store multiple items in an ordered way.\n",
        "\n",
        "a. String (str)\n",
        "\n",
        "bold text\n",
        "A sequence of characters enclosed in quotes"
      ],
      "metadata": {
        "id": "tDtnyvL_MNfI"
      }
    },
    {
      "cell_type": "code",
      "source": [
        "text_double: str = \"Hello, python!\"    # Strings with Double Quotes (\")\n",
        "text_single: str  = 'Hello, Python!' # Strings with Single Quotes (')\n",
        "text_multi: str   = '''Hello, Python!''' # Multi-Line Strings with Triple Quotes (''' or \"\"\")\n",
        "text_multi_1: str = \"\"\"Hello, Python!\"\"\" # Multi-Line Strings with Triple Quotes (''' or \"\"\")\n",
        "\n",
        "print(type(text_double), \"Text_double  = \", text_double)  # <class 'str'>\n",
        "print(type(text_single), \" text_single   = \", text_single)    # <class 'str'>\n",
        "print(type(text_multi), \" text_multi    = \", text_multi)      # <class 'str'>\n",
        "print(type(text_multi_1), \" text_multi_1  = \", text_multi_1)  # <class 'str'>"
      ],
      "metadata": {
        "colab": {
          "base_uri": "https://localhost:8080/"
        },
        "id": "g059uuhAMKl_",
        "outputId": "3bf0ad8d-54eb-451d-d455-789159bf0251"
      },
      "execution_count": 13,
      "outputs": [
        {
          "output_type": "stream",
          "name": "stdout",
          "text": [
            "<class 'str'> Text_double  =  Hello, python!\n",
            "<class 'str'>  text_single   =  Hello, Python!\n",
            "<class 'str'>  text_multi    =  Hello, Python!\n",
            "<class 'str'>  text_multi_1  =  Hello, Python!\n"
          ]
        }
      ]
    },
    {
      "cell_type": "markdown",
      "source": [
        "b. List (list)\n",
        "\n",
        "An ordered, mutable collection."
      ],
      "metadata": {
        "id": "ByQqhFxoQpGx"
      }
    },
    {
      "cell_type": "code",
      "source": [
        "my_list_1: int = [1,2,3,\"java\", 3.14, True] #Type hinting is not enforced in python, but you should mention appropriate data type in this case 'list'\n",
        "my_list: list = [1,2,3, \"python\", 3.14, 3+2j]\n",
        "\n",
        "print(type(my_list_1), \" my_list_1 = \", my_list_1)  # <class 'list'>\n",
        "print(type(my_list), \" my_list  =  \" + str(my_list))   # we will look into type casting in classes ahead"
      ],
      "metadata": {
        "colab": {
          "base_uri": "https://localhost:8080/"
        },
        "id": "_vTKVZGwOy4_",
        "outputId": "46df3679-6cc3-40c3-eb35-6024e1484afe"
      },
      "execution_count": 14,
      "outputs": [
        {
          "output_type": "stream",
          "name": "stdout",
          "text": [
            "<class 'list'>  my_list_1 =  [1, 2, 3, 'java', 3.14, True]\n",
            "<class 'list'>  my_list  =  [1, 2, 3, 'python', 3.14, (3+2j)]\n"
          ]
        }
      ]
    },
    {
      "cell_type": "markdown",
      "source": [],
      "metadata": {
        "id": "HSiSJMLxM7D2"
      }
    }
  ]
}